{
 "cells": [
  {
   "cell_type": "markdown",
   "id": "030590f2",
   "metadata": {},
   "source": [
    "# SQL Select Statement"
   ]
  },
  {
   "cell_type": "markdown",
   "id": "7138eb7f",
   "metadata": {},
   "source": [
    "This database has 3 tables named cd.bookings, cd.members and cd.facilities. I used this database to learn sql select statement, and here are some of the problems I worked on:"
   ]
  },
  {
   "cell_type": "markdown",
   "id": "c51bf379",
   "metadata": {},
   "source": [
    "1. This is how i retrieve all the information from cd.facilities table"
   ]
  },
  {
   "cell_type": "code",
   "execution_count": 11,
   "id": "0f7ec612",
   "metadata": {
    "scrolled": true
   },
   "outputs": [
    {
     "name": "stdout",
     "output_type": "stream",
     "text": [
      "9 rows affected.\n"
     ]
    },
    {
     "data": {
      "text/html": [
       "<table>\n",
       "    <tr>\n",
       "        <th>facid</th>\n",
       "        <th>name</th>\n",
       "        <th>membercost</th>\n",
       "        <th>guestcost</th>\n",
       "        <th>initialoutlay</th>\n",
       "        <th>monthlymaintenance</th>\n",
       "    </tr>\n",
       "    <tr>\n",
       "        <td>0</td>\n",
       "        <td>Tennis Court 1</td>\n",
       "        <td>5</td>\n",
       "        <td>25</td>\n",
       "        <td>10000</td>\n",
       "        <td>200</td>\n",
       "    </tr>\n",
       "    <tr>\n",
       "        <td>1</td>\n",
       "        <td>Tennis Court 2</td>\n",
       "        <td>5</td>\n",
       "        <td>25</td>\n",
       "        <td>8000</td>\n",
       "        <td>200</td>\n",
       "    </tr>\n",
       "    <tr>\n",
       "        <td>2</td>\n",
       "        <td>Badminton Court</td>\n",
       "        <td>0</td>\n",
       "        <td>15.5</td>\n",
       "        <td>4000</td>\n",
       "        <td>50</td>\n",
       "    </tr>\n",
       "    <tr>\n",
       "        <td>3</td>\n",
       "        <td>Table Tennis</td>\n",
       "        <td>0</td>\n",
       "        <td>5</td>\n",
       "        <td>320</td>\n",
       "        <td>10</td>\n",
       "    </tr>\n",
       "    <tr>\n",
       "        <td>4</td>\n",
       "        <td>Massage Room 1</td>\n",
       "        <td>35</td>\n",
       "        <td>80</td>\n",
       "        <td>4000</td>\n",
       "        <td>3000</td>\n",
       "    </tr>\n",
       "    <tr>\n",
       "        <td>5</td>\n",
       "        <td>Massage Room 2</td>\n",
       "        <td>35</td>\n",
       "        <td>80</td>\n",
       "        <td>4000</td>\n",
       "        <td>3000</td>\n",
       "    </tr>\n",
       "    <tr>\n",
       "        <td>6</td>\n",
       "        <td>Squash Court</td>\n",
       "        <td>3.5</td>\n",
       "        <td>17.5</td>\n",
       "        <td>5000</td>\n",
       "        <td>80</td>\n",
       "    </tr>\n",
       "    <tr>\n",
       "        <td>7</td>\n",
       "        <td>Snooker Table</td>\n",
       "        <td>0</td>\n",
       "        <td>5</td>\n",
       "        <td>450</td>\n",
       "        <td>15</td>\n",
       "    </tr>\n",
       "    <tr>\n",
       "        <td>8</td>\n",
       "        <td>Pool Table</td>\n",
       "        <td>0</td>\n",
       "        <td>5</td>\n",
       "        <td>400</td>\n",
       "        <td>15</td>\n",
       "    </tr>\n",
       "</table>"
      ],
      "text/plain": [
       "[(0, 'Tennis Court 1', Decimal('5'), Decimal('25'), Decimal('10000'), Decimal('200')),\n",
       " (1, 'Tennis Court 2', Decimal('5'), Decimal('25'), Decimal('8000'), Decimal('200')),\n",
       " (2, 'Badminton Court', Decimal('0'), Decimal('15.5'), Decimal('4000'), Decimal('50')),\n",
       " (3, 'Table Tennis', Decimal('0'), Decimal('5'), Decimal('320'), Decimal('10')),\n",
       " (4, 'Massage Room 1', Decimal('35'), Decimal('80'), Decimal('4000'), Decimal('3000')),\n",
       " (5, 'Massage Room 2', Decimal('35'), Decimal('80'), Decimal('4000'), Decimal('3000')),\n",
       " (6, 'Squash Court', Decimal('3.5'), Decimal('17.5'), Decimal('5000'), Decimal('80')),\n",
       " (7, 'Snooker Table', Decimal('0'), Decimal('5'), Decimal('450'), Decimal('15')),\n",
       " (8, 'Pool Table', Decimal('0'), Decimal('5'), Decimal('400'), Decimal('15'))]"
      ]
     },
     "execution_count": 11,
     "metadata": {},
     "output_type": "execute_result"
    }
   ],
   "source": [
    "%%sql \n",
    "SELECT * FROM cd.facilities"
   ]
  },
  {
   "cell_type": "markdown",
   "id": "45c42881",
   "metadata": {},
   "source": [
    "2. This is how i retrieve a list of only facility names and costs"
   ]
  },
  {
   "cell_type": "code",
   "execution_count": 12,
   "id": "444b767c",
   "metadata": {},
   "outputs": [
    {
     "name": "stdout",
     "output_type": "stream",
     "text": [
      "9 rows affected.\n"
     ]
    },
    {
     "data": {
      "text/html": [
       "<table>\n",
       "    <tr>\n",
       "        <th>name</th>\n",
       "        <th>membercost</th>\n",
       "    </tr>\n",
       "    <tr>\n",
       "        <td>Tennis Court 1</td>\n",
       "        <td>5</td>\n",
       "    </tr>\n",
       "    <tr>\n",
       "        <td>Tennis Court 2</td>\n",
       "        <td>5</td>\n",
       "    </tr>\n",
       "    <tr>\n",
       "        <td>Badminton Court</td>\n",
       "        <td>0</td>\n",
       "    </tr>\n",
       "    <tr>\n",
       "        <td>Table Tennis</td>\n",
       "        <td>0</td>\n",
       "    </tr>\n",
       "    <tr>\n",
       "        <td>Massage Room 1</td>\n",
       "        <td>35</td>\n",
       "    </tr>\n",
       "    <tr>\n",
       "        <td>Massage Room 2</td>\n",
       "        <td>35</td>\n",
       "    </tr>\n",
       "    <tr>\n",
       "        <td>Squash Court</td>\n",
       "        <td>3.5</td>\n",
       "    </tr>\n",
       "    <tr>\n",
       "        <td>Snooker Table</td>\n",
       "        <td>0</td>\n",
       "    </tr>\n",
       "    <tr>\n",
       "        <td>Pool Table</td>\n",
       "        <td>0</td>\n",
       "    </tr>\n",
       "</table>"
      ],
      "text/plain": [
       "[('Tennis Court 1', Decimal('5')),\n",
       " ('Tennis Court 2', Decimal('5')),\n",
       " ('Badminton Court', Decimal('0')),\n",
       " ('Table Tennis', Decimal('0')),\n",
       " ('Massage Room 1', Decimal('35')),\n",
       " ('Massage Room 2', Decimal('35')),\n",
       " ('Squash Court', Decimal('3.5')),\n",
       " ('Snooker Table', Decimal('0')),\n",
       " ('Pool Table', Decimal('0'))]"
      ]
     },
     "execution_count": 12,
     "metadata": {},
     "output_type": "execute_result"
    }
   ],
   "source": [
    "%%sql \n",
    "SELECT name, membercost FROM cd.facilities"
   ]
  },
  {
   "cell_type": "markdown",
   "id": "696d354c",
   "metadata": {},
   "source": [
    "3. This is how i produce a list of facilities that charge a fee to members"
   ]
  },
  {
   "cell_type": "code",
   "execution_count": 13,
   "id": "4caea676",
   "metadata": {
    "scrolled": true
   },
   "outputs": [
    {
     "name": "stdout",
     "output_type": "stream",
     "text": [
      "5 rows affected.\n"
     ]
    },
    {
     "data": {
      "text/html": [
       "<table>\n",
       "    <tr>\n",
       "        <th>facid</th>\n",
       "        <th>name</th>\n",
       "        <th>membercost</th>\n",
       "        <th>guestcost</th>\n",
       "        <th>initialoutlay</th>\n",
       "        <th>monthlymaintenance</th>\n",
       "    </tr>\n",
       "    <tr>\n",
       "        <td>0</td>\n",
       "        <td>Tennis Court 1</td>\n",
       "        <td>5</td>\n",
       "        <td>25</td>\n",
       "        <td>10000</td>\n",
       "        <td>200</td>\n",
       "    </tr>\n",
       "    <tr>\n",
       "        <td>1</td>\n",
       "        <td>Tennis Court 2</td>\n",
       "        <td>5</td>\n",
       "        <td>25</td>\n",
       "        <td>8000</td>\n",
       "        <td>200</td>\n",
       "    </tr>\n",
       "    <tr>\n",
       "        <td>4</td>\n",
       "        <td>Massage Room 1</td>\n",
       "        <td>35</td>\n",
       "        <td>80</td>\n",
       "        <td>4000</td>\n",
       "        <td>3000</td>\n",
       "    </tr>\n",
       "    <tr>\n",
       "        <td>5</td>\n",
       "        <td>Massage Room 2</td>\n",
       "        <td>35</td>\n",
       "        <td>80</td>\n",
       "        <td>4000</td>\n",
       "        <td>3000</td>\n",
       "    </tr>\n",
       "    <tr>\n",
       "        <td>6</td>\n",
       "        <td>Squash Court</td>\n",
       "        <td>3.5</td>\n",
       "        <td>17.5</td>\n",
       "        <td>5000</td>\n",
       "        <td>80</td>\n",
       "    </tr>\n",
       "</table>"
      ],
      "text/plain": [
       "[(0, 'Tennis Court 1', Decimal('5'), Decimal('25'), Decimal('10000'), Decimal('200')),\n",
       " (1, 'Tennis Court 2', Decimal('5'), Decimal('25'), Decimal('8000'), Decimal('200')),\n",
       " (4, 'Massage Room 1', Decimal('35'), Decimal('80'), Decimal('4000'), Decimal('3000')),\n",
       " (5, 'Massage Room 2', Decimal('35'), Decimal('80'), Decimal('4000'), Decimal('3000')),\n",
       " (6, 'Squash Court', Decimal('3.5'), Decimal('17.5'), Decimal('5000'), Decimal('80'))]"
      ]
     },
     "execution_count": 13,
     "metadata": {},
     "output_type": "execute_result"
    }
   ],
   "source": [
    "%%sql \n",
    "SELECT * FROM cd.facilities WHERE membercost > 0"
   ]
  },
  {
   "cell_type": "markdown",
   "id": "73504f97",
   "metadata": {},
   "source": [
    "4. This is how i produce a list of all facilities with the word 'Tennis' in their name"
   ]
  },
  {
   "cell_type": "code",
   "execution_count": 14,
   "id": "d94244b3",
   "metadata": {
    "scrolled": false
   },
   "outputs": [
    {
     "name": "stdout",
     "output_type": "stream",
     "text": [
      "3 rows affected.\n"
     ]
    },
    {
     "data": {
      "text/html": [
       "<table>\n",
       "    <tr>\n",
       "        <th>facid</th>\n",
       "        <th>name</th>\n",
       "        <th>membercost</th>\n",
       "        <th>guestcost</th>\n",
       "        <th>initialoutlay</th>\n",
       "        <th>monthlymaintenance</th>\n",
       "    </tr>\n",
       "    <tr>\n",
       "        <td>0</td>\n",
       "        <td>Tennis Court 1</td>\n",
       "        <td>5</td>\n",
       "        <td>25</td>\n",
       "        <td>10000</td>\n",
       "        <td>200</td>\n",
       "    </tr>\n",
       "    <tr>\n",
       "        <td>1</td>\n",
       "        <td>Tennis Court 2</td>\n",
       "        <td>5</td>\n",
       "        <td>25</td>\n",
       "        <td>8000</td>\n",
       "        <td>200</td>\n",
       "    </tr>\n",
       "    <tr>\n",
       "        <td>3</td>\n",
       "        <td>Table Tennis</td>\n",
       "        <td>0</td>\n",
       "        <td>5</td>\n",
       "        <td>320</td>\n",
       "        <td>10</td>\n",
       "    </tr>\n",
       "</table>"
      ],
      "text/plain": [
       "[(0, 'Tennis Court 1', Decimal('5'), Decimal('25'), Decimal('10000'), Decimal('200')),\n",
       " (1, 'Tennis Court 2', Decimal('5'), Decimal('25'), Decimal('8000'), Decimal('200')),\n",
       " (3, 'Table Tennis', Decimal('0'), Decimal('5'), Decimal('320'), Decimal('10'))]"
      ]
     },
     "execution_count": 14,
     "metadata": {},
     "output_type": "execute_result"
    }
   ],
   "source": [
    "%%sql \n",
    "SELECT * FROM cd.facilities WHERE name LIKE '%Tennis%'"
   ]
  },
  {
   "cell_type": "markdown",
   "id": "421bc422",
   "metadata": {},
   "source": [
    "5. This is how i retrieve the details of facilities with ID 1 and 5"
   ]
  },
  {
   "cell_type": "code",
   "execution_count": 15,
   "id": "c9c94fd0",
   "metadata": {},
   "outputs": [
    {
     "name": "stdout",
     "output_type": "stream",
     "text": [
      "2 rows affected.\n"
     ]
    },
    {
     "data": {
      "text/html": [
       "<table>\n",
       "    <tr>\n",
       "        <th>facid</th>\n",
       "        <th>name</th>\n",
       "        <th>membercost</th>\n",
       "        <th>guestcost</th>\n",
       "        <th>initialoutlay</th>\n",
       "        <th>monthlymaintenance</th>\n",
       "    </tr>\n",
       "    <tr>\n",
       "        <td>1</td>\n",
       "        <td>Tennis Court 2</td>\n",
       "        <td>5</td>\n",
       "        <td>25</td>\n",
       "        <td>8000</td>\n",
       "        <td>200</td>\n",
       "    </tr>\n",
       "    <tr>\n",
       "        <td>5</td>\n",
       "        <td>Massage Room 2</td>\n",
       "        <td>35</td>\n",
       "        <td>80</td>\n",
       "        <td>4000</td>\n",
       "        <td>3000</td>\n",
       "    </tr>\n",
       "</table>"
      ],
      "text/plain": [
       "[(1, 'Tennis Court 2', Decimal('5'), Decimal('25'), Decimal('8000'), Decimal('200')),\n",
       " (5, 'Massage Room 2', Decimal('35'), Decimal('80'), Decimal('4000'), Decimal('3000'))]"
      ]
     },
     "execution_count": 15,
     "metadata": {},
     "output_type": "execute_result"
    }
   ],
   "source": [
    "%%sql \n",
    "SELECT * FROM cd.facilities WHERE facid IN (1,5)"
   ]
  },
  {
   "cell_type": "markdown",
   "id": "709654e2",
   "metadata": {},
   "source": [
    "6. This is how i produce a list of members who joined after the start of September 2012"
   ]
  },
  {
   "cell_type": "code",
   "execution_count": 16,
   "id": "22166275",
   "metadata": {
    "scrolled": true
   },
   "outputs": [
    {
     "name": "stdout",
     "output_type": "stream",
     "text": [
      "10 rows affected.\n"
     ]
    },
    {
     "data": {
      "text/html": [
       "<table>\n",
       "    <tr>\n",
       "        <th>memid</th>\n",
       "        <th>surname</th>\n",
       "        <th>firstname</th>\n",
       "        <th>joindate</th>\n",
       "    </tr>\n",
       "    <tr>\n",
       "        <td>24</td>\n",
       "        <td>Sarwin</td>\n",
       "        <td>Ramnaresh</td>\n",
       "        <td>2012-09-01 08:44:42</td>\n",
       "    </tr>\n",
       "    <tr>\n",
       "        <td>26</td>\n",
       "        <td>Jones</td>\n",
       "        <td>Douglas</td>\n",
       "        <td>2012-09-02 18:43:05</td>\n",
       "    </tr>\n",
       "    <tr>\n",
       "        <td>27</td>\n",
       "        <td>Rumney</td>\n",
       "        <td>Henrietta</td>\n",
       "        <td>2012-09-05 08:42:35</td>\n",
       "    </tr>\n",
       "    <tr>\n",
       "        <td>28</td>\n",
       "        <td>Farrell</td>\n",
       "        <td>David</td>\n",
       "        <td>2012-09-15 08:22:05</td>\n",
       "    </tr>\n",
       "    <tr>\n",
       "        <td>29</td>\n",
       "        <td>Worthington-Smyth</td>\n",
       "        <td>Henry</td>\n",
       "        <td>2012-09-17 12:27:15</td>\n",
       "    </tr>\n",
       "    <tr>\n",
       "        <td>30</td>\n",
       "        <td>Purview</td>\n",
       "        <td>Millicent</td>\n",
       "        <td>2012-09-18 19:04:01</td>\n",
       "    </tr>\n",
       "    <tr>\n",
       "        <td>33</td>\n",
       "        <td>Tupperware</td>\n",
       "        <td>Hyacinth</td>\n",
       "        <td>2012-09-18 19:32:05</td>\n",
       "    </tr>\n",
       "    <tr>\n",
       "        <td>35</td>\n",
       "        <td>Hunt</td>\n",
       "        <td>John</td>\n",
       "        <td>2012-09-19 11:32:45</td>\n",
       "    </tr>\n",
       "    <tr>\n",
       "        <td>36</td>\n",
       "        <td>Crumpet</td>\n",
       "        <td>Erica</td>\n",
       "        <td>2012-09-22 08:36:38</td>\n",
       "    </tr>\n",
       "    <tr>\n",
       "        <td>37</td>\n",
       "        <td>Smith</td>\n",
       "        <td>Darren</td>\n",
       "        <td>2012-09-26 18:08:45</td>\n",
       "    </tr>\n",
       "</table>"
      ],
      "text/plain": [
       "[(24, 'Sarwin', 'Ramnaresh', datetime.datetime(2012, 9, 1, 8, 44, 42)),\n",
       " (26, 'Jones', 'Douglas', datetime.datetime(2012, 9, 2, 18, 43, 5)),\n",
       " (27, 'Rumney', 'Henrietta', datetime.datetime(2012, 9, 5, 8, 42, 35)),\n",
       " (28, 'Farrell', 'David', datetime.datetime(2012, 9, 15, 8, 22, 5)),\n",
       " (29, 'Worthington-Smyth', 'Henry', datetime.datetime(2012, 9, 17, 12, 27, 15)),\n",
       " (30, 'Purview', 'Millicent', datetime.datetime(2012, 9, 18, 19, 4, 1)),\n",
       " (33, 'Tupperware', 'Hyacinth', datetime.datetime(2012, 9, 18, 19, 32, 5)),\n",
       " (35, 'Hunt', 'John', datetime.datetime(2012, 9, 19, 11, 32, 45)),\n",
       " (36, 'Crumpet', 'Erica', datetime.datetime(2012, 9, 22, 8, 36, 38)),\n",
       " (37, 'Smith', 'Darren', datetime.datetime(2012, 9, 26, 18, 8, 45))]"
      ]
     },
     "execution_count": 16,
     "metadata": {},
     "output_type": "execute_result"
    }
   ],
   "source": [
    "%%sql \n",
    "SELECT memid,surname,firstname,joindate FROM cd.members \n",
    "WHERE joindate > '01-09-2012'"
   ]
  },
  {
   "cell_type": "markdown",
   "id": "39369529",
   "metadata": {},
   "source": [
    "7. This is how i produce an ordered list of the first 10 surnames in the members table"
   ]
  },
  {
   "cell_type": "code",
   "execution_count": 19,
   "id": "7603b5c4",
   "metadata": {},
   "outputs": [
    {
     "name": "stdout",
     "output_type": "stream",
     "text": [
      "10 rows affected.\n"
     ]
    },
    {
     "data": {
      "text/html": [
       "<table>\n",
       "    <tr>\n",
       "        <th>memid</th>\n",
       "        <th>surname</th>\n",
       "        <th>firstname</th>\n",
       "        <th>joindate</th>\n",
       "    </tr>\n",
       "    <tr>\n",
       "        <td>24</td>\n",
       "        <td>Sarwin</td>\n",
       "        <td>Ramnaresh</td>\n",
       "        <td>2012-09-01 08:44:42</td>\n",
       "    </tr>\n",
       "    <tr>\n",
       "        <td>26</td>\n",
       "        <td>Jones</td>\n",
       "        <td>Douglas</td>\n",
       "        <td>2012-09-02 18:43:05</td>\n",
       "    </tr>\n",
       "    <tr>\n",
       "        <td>27</td>\n",
       "        <td>Rumney</td>\n",
       "        <td>Henrietta</td>\n",
       "        <td>2012-09-05 08:42:35</td>\n",
       "    </tr>\n",
       "    <tr>\n",
       "        <td>28</td>\n",
       "        <td>Farrell</td>\n",
       "        <td>David</td>\n",
       "        <td>2012-09-15 08:22:05</td>\n",
       "    </tr>\n",
       "    <tr>\n",
       "        <td>29</td>\n",
       "        <td>Worthington-Smyth</td>\n",
       "        <td>Henry</td>\n",
       "        <td>2012-09-17 12:27:15</td>\n",
       "    </tr>\n",
       "    <tr>\n",
       "        <td>30</td>\n",
       "        <td>Purview</td>\n",
       "        <td>Millicent</td>\n",
       "        <td>2012-09-18 19:04:01</td>\n",
       "    </tr>\n",
       "    <tr>\n",
       "        <td>33</td>\n",
       "        <td>Tupperware</td>\n",
       "        <td>Hyacinth</td>\n",
       "        <td>2012-09-18 19:32:05</td>\n",
       "    </tr>\n",
       "    <tr>\n",
       "        <td>35</td>\n",
       "        <td>Hunt</td>\n",
       "        <td>John</td>\n",
       "        <td>2012-09-19 11:32:45</td>\n",
       "    </tr>\n",
       "    <tr>\n",
       "        <td>36</td>\n",
       "        <td>Crumpet</td>\n",
       "        <td>Erica</td>\n",
       "        <td>2012-09-22 08:36:38</td>\n",
       "    </tr>\n",
       "    <tr>\n",
       "        <td>37</td>\n",
       "        <td>Smith</td>\n",
       "        <td>Darren</td>\n",
       "        <td>2012-09-26 18:08:45</td>\n",
       "    </tr>\n",
       "</table>"
      ],
      "text/plain": [
       "[(24, 'Sarwin', 'Ramnaresh', datetime.datetime(2012, 9, 1, 8, 44, 42)),\n",
       " (26, 'Jones', 'Douglas', datetime.datetime(2012, 9, 2, 18, 43, 5)),\n",
       " (27, 'Rumney', 'Henrietta', datetime.datetime(2012, 9, 5, 8, 42, 35)),\n",
       " (28, 'Farrell', 'David', datetime.datetime(2012, 9, 15, 8, 22, 5)),\n",
       " (29, 'Worthington-Smyth', 'Henry', datetime.datetime(2012, 9, 17, 12, 27, 15)),\n",
       " (30, 'Purview', 'Millicent', datetime.datetime(2012, 9, 18, 19, 4, 1)),\n",
       " (33, 'Tupperware', 'Hyacinth', datetime.datetime(2012, 9, 18, 19, 32, 5)),\n",
       " (35, 'Hunt', 'John', datetime.datetime(2012, 9, 19, 11, 32, 45)),\n",
       " (36, 'Crumpet', 'Erica', datetime.datetime(2012, 9, 22, 8, 36, 38)),\n",
       " (37, 'Smith', 'Darren', datetime.datetime(2012, 9, 26, 18, 8, 45))]"
      ]
     },
     "execution_count": 19,
     "metadata": {},
     "output_type": "execute_result"
    }
   ],
   "source": [
    "%%sql \n",
    "SELECT memid,surname,firstname,joindate FROM cd.members \n",
    "WHERE joindate > '01-09-2012'"
   ]
  },
  {
   "cell_type": "markdown",
   "id": "2240d9be",
   "metadata": {},
   "source": [
    "8. This is how i produce an ordered list of the first 10 surnames in the members table"
   ]
  },
  {
   "cell_type": "code",
   "execution_count": 20,
   "id": "a7180e20",
   "metadata": {},
   "outputs": [
    {
     "name": "stdout",
     "output_type": "stream",
     "text": [
      "10 rows affected.\n"
     ]
    },
    {
     "data": {
      "text/html": [
       "<table>\n",
       "    <tr>\n",
       "        <th>surname</th>\n",
       "    </tr>\n",
       "    <tr>\n",
       "        <td>Bader</td>\n",
       "    </tr>\n",
       "    <tr>\n",
       "        <td>Baker</td>\n",
       "    </tr>\n",
       "    <tr>\n",
       "        <td>Boothe</td>\n",
       "    </tr>\n",
       "    <tr>\n",
       "        <td>Butters</td>\n",
       "    </tr>\n",
       "    <tr>\n",
       "        <td>Coplin</td>\n",
       "    </tr>\n",
       "    <tr>\n",
       "        <td>Crumpet</td>\n",
       "    </tr>\n",
       "    <tr>\n",
       "        <td>Dare</td>\n",
       "    </tr>\n",
       "    <tr>\n",
       "        <td>Farrell</td>\n",
       "    </tr>\n",
       "    <tr>\n",
       "        <td>Genting</td>\n",
       "    </tr>\n",
       "    <tr>\n",
       "        <td>GUEST</td>\n",
       "    </tr>\n",
       "</table>"
      ],
      "text/plain": [
       "[('Bader',),\n",
       " ('Baker',),\n",
       " ('Boothe',),\n",
       " ('Butters',),\n",
       " ('Coplin',),\n",
       " ('Crumpet',),\n",
       " ('Dare',),\n",
       " ('Farrell',),\n",
       " ('Genting',),\n",
       " ('GUEST',)]"
      ]
     },
     "execution_count": 20,
     "metadata": {},
     "output_type": "execute_result"
    }
   ],
   "source": [
    "%%sql \n",
    "SELECT DISTINCT surname FROM cd.members ORDER BY surname LIMIT 10"
   ]
  },
  {
   "cell_type": "markdown",
   "id": "9ec5abbe",
   "metadata": {},
   "source": [
    "9. This is how i get the signup date of my last member"
   ]
  },
  {
   "cell_type": "code",
   "execution_count": 21,
   "id": "8fbcd288",
   "metadata": {},
   "outputs": [
    {
     "name": "stdout",
     "output_type": "stream",
     "text": [
      "1 rows affected.\n"
     ]
    },
    {
     "data": {
      "text/html": [
       "<table>\n",
       "    <tr>\n",
       "        <th>latest_signup</th>\n",
       "    </tr>\n",
       "    <tr>\n",
       "        <td>2012-09-26 18:08:45</td>\n",
       "    </tr>\n",
       "</table>"
      ],
      "text/plain": [
       "[(datetime.datetime(2012, 9, 26, 18, 8, 45),)]"
      ]
     },
     "execution_count": 21,
     "metadata": {},
     "output_type": "execute_result"
    }
   ],
   "source": [
    "%sql SELECT MAX(joindate) AS latest_signup FROM cd.members"
   ]
  },
  {
   "cell_type": "markdown",
   "id": "58864ba3",
   "metadata": {},
   "source": [
    "10. This is how i produce a list of the total number of slots booked per facility in the month of September 2012"
   ]
  },
  {
   "cell_type": "code",
   "execution_count": 22,
   "id": "3c2e16bf",
   "metadata": {},
   "outputs": [
    {
     "name": "stdout",
     "output_type": "stream",
     "text": [
      "9 rows affected.\n"
     ]
    },
    {
     "data": {
      "text/html": [
       "<table>\n",
       "    <tr>\n",
       "        <th>facid</th>\n",
       "        <th>Total_slots</th>\n",
       "    </tr>\n",
       "    <tr>\n",
       "        <td>5</td>\n",
       "        <td>130</td>\n",
       "    </tr>\n",
       "    <tr>\n",
       "        <td>3</td>\n",
       "        <td>430</td>\n",
       "    </tr>\n",
       "    <tr>\n",
       "        <td>7</td>\n",
       "        <td>440</td>\n",
       "    </tr>\n",
       "    <tr>\n",
       "        <td>8</td>\n",
       "        <td>485</td>\n",
       "    </tr>\n",
       "    <tr>\n",
       "        <td>6</td>\n",
       "        <td>556</td>\n",
       "    </tr>\n",
       "    <tr>\n",
       "        <td>2</td>\n",
       "        <td>588</td>\n",
       "    </tr>\n",
       "    <tr>\n",
       "        <td>0</td>\n",
       "        <td>609</td>\n",
       "    </tr>\n",
       "    <tr>\n",
       "        <td>1</td>\n",
       "        <td>609</td>\n",
       "    </tr>\n",
       "    <tr>\n",
       "        <td>4</td>\n",
       "        <td>666</td>\n",
       "    </tr>\n",
       "</table>"
      ],
      "text/plain": [
       "[(5, 130),\n",
       " (3, 430),\n",
       " (7, 440),\n",
       " (8, 485),\n",
       " (6, 556),\n",
       " (2, 588),\n",
       " (0, 609),\n",
       " (1, 609),\n",
       " (4, 666)]"
      ]
     },
     "execution_count": 22,
     "metadata": {},
     "output_type": "execute_result"
    }
   ],
   "source": [
    "%%sql \n",
    "SELECT facid,sum(slots) AS \"Total_slots\" FROM cd.bookings \n",
    "    WHERE starttime BETWEEN '31-08-2012' AND '01-10-2012'\n",
    "    GROUP BY facid ORDER BY sum(slots)"
   ]
  },
  {
   "cell_type": "markdown",
   "id": "8e21aa86",
   "metadata": {},
   "source": [
    "11. This is how i produce a list of facilities with more than 1000 slots booked"
   ]
  },
  {
   "cell_type": "code",
   "execution_count": 23,
   "id": "b1fe455d",
   "metadata": {
    "scrolled": true
   },
   "outputs": [
    {
     "name": "stdout",
     "output_type": "stream",
     "text": [
      "5 rows affected.\n"
     ]
    },
    {
     "data": {
      "text/html": [
       "<table>\n",
       "    <tr>\n",
       "        <th>facid</th>\n",
       "        <th>Total_slots</th>\n",
       "    </tr>\n",
       "    <tr>\n",
       "        <td>1</td>\n",
       "        <td>1278</td>\n",
       "    </tr>\n",
       "    <tr>\n",
       "        <td>2</td>\n",
       "        <td>1209</td>\n",
       "    </tr>\n",
       "    <tr>\n",
       "        <td>4</td>\n",
       "        <td>1404</td>\n",
       "    </tr>\n",
       "    <tr>\n",
       "        <td>0</td>\n",
       "        <td>1320</td>\n",
       "    </tr>\n",
       "    <tr>\n",
       "        <td>6</td>\n",
       "        <td>1104</td>\n",
       "    </tr>\n",
       "</table>"
      ],
      "text/plain": [
       "[(1, 1278), (2, 1209), (4, 1404), (0, 1320), (6, 1104)]"
      ]
     },
     "execution_count": 23,
     "metadata": {},
     "output_type": "execute_result"
    }
   ],
   "source": [
    "%%sql\n",
    "SELECT facid,sum(slots) AS \"Total_slots\" FROM cd.bookings\n",
    "GROUP BY facid \n",
    "HAVING sum(slots) > 1000"
   ]
  },
  {
   "cell_type": "markdown",
   "id": "1c780f77",
   "metadata": {},
   "source": [
    "12. This is how i produce a list of the start times for bookings for tennis courts, for the date '2012-09-21'"
   ]
  },
  {
   "cell_type": "code",
   "execution_count": 24,
   "id": "4ae65d9b",
   "metadata": {},
   "outputs": [
    {
     "name": "stdout",
     "output_type": "stream",
     "text": [
      "12 rows affected.\n"
     ]
    },
    {
     "data": {
      "text/html": [
       "<table>\n",
       "    <tr>\n",
       "        <th>facid</th>\n",
       "        <th>name</th>\n",
       "        <th>starttime</th>\n",
       "    </tr>\n",
       "    <tr>\n",
       "        <td>0</td>\n",
       "        <td>Tennis Court 1</td>\n",
       "        <td>2012-09-21 08:00:00</td>\n",
       "    </tr>\n",
       "    <tr>\n",
       "        <td>1</td>\n",
       "        <td>Tennis Court 2</td>\n",
       "        <td>2012-09-21 08:00:00</td>\n",
       "    </tr>\n",
       "    <tr>\n",
       "        <td>0</td>\n",
       "        <td>Tennis Court 1</td>\n",
       "        <td>2012-09-21 09:30:00</td>\n",
       "    </tr>\n",
       "    <tr>\n",
       "        <td>1</td>\n",
       "        <td>Tennis Court 2</td>\n",
       "        <td>2012-09-21 10:00:00</td>\n",
       "    </tr>\n",
       "    <tr>\n",
       "        <td>1</td>\n",
       "        <td>Tennis Court 2</td>\n",
       "        <td>2012-09-21 11:30:00</td>\n",
       "    </tr>\n",
       "    <tr>\n",
       "        <td>0</td>\n",
       "        <td>Tennis Court 1</td>\n",
       "        <td>2012-09-21 12:00:00</td>\n",
       "    </tr>\n",
       "    <tr>\n",
       "        <td>0</td>\n",
       "        <td>Tennis Court 1</td>\n",
       "        <td>2012-09-21 13:30:00</td>\n",
       "    </tr>\n",
       "    <tr>\n",
       "        <td>1</td>\n",
       "        <td>Tennis Court 2</td>\n",
       "        <td>2012-09-21 14:00:00</td>\n",
       "    </tr>\n",
       "    <tr>\n",
       "        <td>0</td>\n",
       "        <td>Tennis Court 1</td>\n",
       "        <td>2012-09-21 15:30:00</td>\n",
       "    </tr>\n",
       "    <tr>\n",
       "        <td>1</td>\n",
       "        <td>Tennis Court 2</td>\n",
       "        <td>2012-09-21 16:00:00</td>\n",
       "    </tr>\n",
       "    <tr>\n",
       "        <td>0</td>\n",
       "        <td>Tennis Court 1</td>\n",
       "        <td>2012-09-21 17:00:00</td>\n",
       "    </tr>\n",
       "    <tr>\n",
       "        <td>1</td>\n",
       "        <td>Tennis Court 2</td>\n",
       "        <td>2012-09-21 18:00:00</td>\n",
       "    </tr>\n",
       "</table>"
      ],
      "text/plain": [
       "[(0, 'Tennis Court 1', datetime.datetime(2012, 9, 21, 8, 0)),\n",
       " (1, 'Tennis Court 2', datetime.datetime(2012, 9, 21, 8, 0)),\n",
       " (0, 'Tennis Court 1', datetime.datetime(2012, 9, 21, 9, 30)),\n",
       " (1, 'Tennis Court 2', datetime.datetime(2012, 9, 21, 10, 0)),\n",
       " (1, 'Tennis Court 2', datetime.datetime(2012, 9, 21, 11, 30)),\n",
       " (0, 'Tennis Court 1', datetime.datetime(2012, 9, 21, 12, 0)),\n",
       " (0, 'Tennis Court 1', datetime.datetime(2012, 9, 21, 13, 30)),\n",
       " (1, 'Tennis Court 2', datetime.datetime(2012, 9, 21, 14, 0)),\n",
       " (0, 'Tennis Court 1', datetime.datetime(2012, 9, 21, 15, 30)),\n",
       " (1, 'Tennis Court 2', datetime.datetime(2012, 9, 21, 16, 0)),\n",
       " (0, 'Tennis Court 1', datetime.datetime(2012, 9, 21, 17, 0)),\n",
       " (1, 'Tennis Court 2', datetime.datetime(2012, 9, 21, 18, 0))]"
      ]
     },
     "execution_count": 24,
     "metadata": {},
     "output_type": "execute_result"
    }
   ],
   "source": [
    "%%sql\n",
    "SELECT cd.bookings.facid,cd.facilities.name,cd.bookings.starttime\n",
    "FROM cd.bookings INNER JOIN cd.facilities\n",
    "ON cd.bookings.facid = cd.facilities.facid \n",
    "WHERE cd.facilities.facid IN (0,1) \n",
    "AND cd.bookings.starttime >= '2012-09-21' \n",
    "AND cd.bookings.starttime < '2012-09-22' \n",
    "ORDER BY cd.bookings.starttime;"
   ]
  },
  {
   "cell_type": "markdown",
   "id": "ef57e965",
   "metadata": {},
   "source": [
    "13.This is how i produce a list of the start times for bookings by members named 'David Farrell'"
   ]
  },
  {
   "cell_type": "code",
   "execution_count": 25,
   "id": "36f87289",
   "metadata": {
    "scrolled": true
   },
   "outputs": [
    {
     "name": "stdout",
     "output_type": "stream",
     "text": [
      "34 rows affected.\n"
     ]
    },
    {
     "data": {
      "text/html": [
       "<table>\n",
       "    <tr>\n",
       "        <th>firstname</th>\n",
       "        <th>surname</th>\n",
       "        <th>starttime</th>\n",
       "    </tr>\n",
       "    <tr>\n",
       "        <td>David</td>\n",
       "        <td>Farrell</td>\n",
       "        <td>2012-09-18 09:00:00</td>\n",
       "    </tr>\n",
       "    <tr>\n",
       "        <td>David</td>\n",
       "        <td>Farrell</td>\n",
       "        <td>2012-09-18 13:30:00</td>\n",
       "    </tr>\n",
       "    <tr>\n",
       "        <td>David</td>\n",
       "        <td>Farrell</td>\n",
       "        <td>2012-09-18 17:30:00</td>\n",
       "    </tr>\n",
       "    <tr>\n",
       "        <td>David</td>\n",
       "        <td>Farrell</td>\n",
       "        <td>2012-09-18 20:00:00</td>\n",
       "    </tr>\n",
       "    <tr>\n",
       "        <td>David</td>\n",
       "        <td>Farrell</td>\n",
       "        <td>2012-09-19 09:30:00</td>\n",
       "    </tr>\n",
       "    <tr>\n",
       "        <td>David</td>\n",
       "        <td>Farrell</td>\n",
       "        <td>2012-09-19 12:00:00</td>\n",
       "    </tr>\n",
       "    <tr>\n",
       "        <td>David</td>\n",
       "        <td>Farrell</td>\n",
       "        <td>2012-09-19 15:00:00</td>\n",
       "    </tr>\n",
       "    <tr>\n",
       "        <td>David</td>\n",
       "        <td>Farrell</td>\n",
       "        <td>2012-09-20 11:30:00</td>\n",
       "    </tr>\n",
       "    <tr>\n",
       "        <td>David</td>\n",
       "        <td>Farrell</td>\n",
       "        <td>2012-09-20 14:00:00</td>\n",
       "    </tr>\n",
       "    <tr>\n",
       "        <td>David</td>\n",
       "        <td>Farrell</td>\n",
       "        <td>2012-09-20 15:30:00</td>\n",
       "    </tr>\n",
       "    <tr>\n",
       "        <td>David</td>\n",
       "        <td>Farrell</td>\n",
       "        <td>2012-09-21 10:30:00</td>\n",
       "    </tr>\n",
       "    <tr>\n",
       "        <td>David</td>\n",
       "        <td>Farrell</td>\n",
       "        <td>2012-09-21 14:00:00</td>\n",
       "    </tr>\n",
       "    <tr>\n",
       "        <td>David</td>\n",
       "        <td>Farrell</td>\n",
       "        <td>2012-09-22 08:30:00</td>\n",
       "    </tr>\n",
       "    <tr>\n",
       "        <td>David</td>\n",
       "        <td>Farrell</td>\n",
       "        <td>2012-09-22 17:00:00</td>\n",
       "    </tr>\n",
       "    <tr>\n",
       "        <td>David</td>\n",
       "        <td>Farrell</td>\n",
       "        <td>2012-09-23 08:30:00</td>\n",
       "    </tr>\n",
       "    <tr>\n",
       "        <td>David</td>\n",
       "        <td>Farrell</td>\n",
       "        <td>2012-09-23 17:30:00</td>\n",
       "    </tr>\n",
       "    <tr>\n",
       "        <td>David</td>\n",
       "        <td>Farrell</td>\n",
       "        <td>2012-09-23 19:00:00</td>\n",
       "    </tr>\n",
       "    <tr>\n",
       "        <td>David</td>\n",
       "        <td>Farrell</td>\n",
       "        <td>2012-09-24 08:00:00</td>\n",
       "    </tr>\n",
       "    <tr>\n",
       "        <td>David</td>\n",
       "        <td>Farrell</td>\n",
       "        <td>2012-09-24 12:30:00</td>\n",
       "    </tr>\n",
       "    <tr>\n",
       "        <td>David</td>\n",
       "        <td>Farrell</td>\n",
       "        <td>2012-09-24 16:30:00</td>\n",
       "    </tr>\n",
       "    <tr>\n",
       "        <td>David</td>\n",
       "        <td>Farrell</td>\n",
       "        <td>2012-09-25 15:30:00</td>\n",
       "    </tr>\n",
       "    <tr>\n",
       "        <td>David</td>\n",
       "        <td>Farrell</td>\n",
       "        <td>2012-09-25 17:00:00</td>\n",
       "    </tr>\n",
       "    <tr>\n",
       "        <td>David</td>\n",
       "        <td>Farrell</td>\n",
       "        <td>2012-09-26 13:00:00</td>\n",
       "    </tr>\n",
       "    <tr>\n",
       "        <td>David</td>\n",
       "        <td>Farrell</td>\n",
       "        <td>2012-09-26 17:00:00</td>\n",
       "    </tr>\n",
       "    <tr>\n",
       "        <td>David</td>\n",
       "        <td>Farrell</td>\n",
       "        <td>2012-09-27 08:00:00</td>\n",
       "    </tr>\n",
       "    <tr>\n",
       "        <td>David</td>\n",
       "        <td>Farrell</td>\n",
       "        <td>2012-09-28 09:30:00</td>\n",
       "    </tr>\n",
       "    <tr>\n",
       "        <td>David</td>\n",
       "        <td>Farrell</td>\n",
       "        <td>2012-09-28 11:30:00</td>\n",
       "    </tr>\n",
       "    <tr>\n",
       "        <td>David</td>\n",
       "        <td>Farrell</td>\n",
       "        <td>2012-09-28 13:00:00</td>\n",
       "    </tr>\n",
       "    <tr>\n",
       "        <td>David</td>\n",
       "        <td>Farrell</td>\n",
       "        <td>2012-09-29 10:30:00</td>\n",
       "    </tr>\n",
       "    <tr>\n",
       "        <td>David</td>\n",
       "        <td>Farrell</td>\n",
       "        <td>2012-09-29 13:30:00</td>\n",
       "    </tr>\n",
       "    <tr>\n",
       "        <td>David</td>\n",
       "        <td>Farrell</td>\n",
       "        <td>2012-09-29 14:30:00</td>\n",
       "    </tr>\n",
       "    <tr>\n",
       "        <td>David</td>\n",
       "        <td>Farrell</td>\n",
       "        <td>2012-09-29 16:00:00</td>\n",
       "    </tr>\n",
       "    <tr>\n",
       "        <td>David</td>\n",
       "        <td>Farrell</td>\n",
       "        <td>2012-09-29 17:30:00</td>\n",
       "    </tr>\n",
       "    <tr>\n",
       "        <td>David</td>\n",
       "        <td>Farrell</td>\n",
       "        <td>2012-09-30 14:30:00</td>\n",
       "    </tr>\n",
       "</table>"
      ],
      "text/plain": [
       "[('David', 'Farrell', datetime.datetime(2012, 9, 18, 9, 0)),\n",
       " ('David', 'Farrell', datetime.datetime(2012, 9, 18, 13, 30)),\n",
       " ('David', 'Farrell', datetime.datetime(2012, 9, 18, 17, 30)),\n",
       " ('David', 'Farrell', datetime.datetime(2012, 9, 18, 20, 0)),\n",
       " ('David', 'Farrell', datetime.datetime(2012, 9, 19, 9, 30)),\n",
       " ('David', 'Farrell', datetime.datetime(2012, 9, 19, 12, 0)),\n",
       " ('David', 'Farrell', datetime.datetime(2012, 9, 19, 15, 0)),\n",
       " ('David', 'Farrell', datetime.datetime(2012, 9, 20, 11, 30)),\n",
       " ('David', 'Farrell', datetime.datetime(2012, 9, 20, 14, 0)),\n",
       " ('David', 'Farrell', datetime.datetime(2012, 9, 20, 15, 30)),\n",
       " ('David', 'Farrell', datetime.datetime(2012, 9, 21, 10, 30)),\n",
       " ('David', 'Farrell', datetime.datetime(2012, 9, 21, 14, 0)),\n",
       " ('David', 'Farrell', datetime.datetime(2012, 9, 22, 8, 30)),\n",
       " ('David', 'Farrell', datetime.datetime(2012, 9, 22, 17, 0)),\n",
       " ('David', 'Farrell', datetime.datetime(2012, 9, 23, 8, 30)),\n",
       " ('David', 'Farrell', datetime.datetime(2012, 9, 23, 17, 30)),\n",
       " ('David', 'Farrell', datetime.datetime(2012, 9, 23, 19, 0)),\n",
       " ('David', 'Farrell', datetime.datetime(2012, 9, 24, 8, 0)),\n",
       " ('David', 'Farrell', datetime.datetime(2012, 9, 24, 12, 30)),\n",
       " ('David', 'Farrell', datetime.datetime(2012, 9, 24, 16, 30)),\n",
       " ('David', 'Farrell', datetime.datetime(2012, 9, 25, 15, 30)),\n",
       " ('David', 'Farrell', datetime.datetime(2012, 9, 25, 17, 0)),\n",
       " ('David', 'Farrell', datetime.datetime(2012, 9, 26, 13, 0)),\n",
       " ('David', 'Farrell', datetime.datetime(2012, 9, 26, 17, 0)),\n",
       " ('David', 'Farrell', datetime.datetime(2012, 9, 27, 8, 0)),\n",
       " ('David', 'Farrell', datetime.datetime(2012, 9, 28, 9, 30)),\n",
       " ('David', 'Farrell', datetime.datetime(2012, 9, 28, 11, 30)),\n",
       " ('David', 'Farrell', datetime.datetime(2012, 9, 28, 13, 0)),\n",
       " ('David', 'Farrell', datetime.datetime(2012, 9, 29, 10, 30)),\n",
       " ('David', 'Farrell', datetime.datetime(2012, 9, 29, 13, 30)),\n",
       " ('David', 'Farrell', datetime.datetime(2012, 9, 29, 14, 30)),\n",
       " ('David', 'Farrell', datetime.datetime(2012, 9, 29, 16, 0)),\n",
       " ('David', 'Farrell', datetime.datetime(2012, 9, 29, 17, 30)),\n",
       " ('David', 'Farrell', datetime.datetime(2012, 9, 30, 14, 30))]"
      ]
     },
     "execution_count": 25,
     "metadata": {},
     "output_type": "execute_result"
    }
   ],
   "source": [
    "%%sql\n",
    "SELECT cd.members.firstname,cd.members.surname,cd.bookings.starttime\n",
    "FROM cd.members INNER JOIN cd.bookings\n",
    "ON cd.members.memid = cd.bookings.memid \n",
    "WHERE cd.members.firstname = 'David'\n",
    "AND cd.members.surname = 'Farrell'\n",
    "ORDER BY cd.bookings.starttime"
   ]
  }
 ],
 "metadata": {
  "kernelspec": {
   "display_name": "Python 3 (ipykernel)",
   "language": "python",
   "name": "python3"
  },
  "language_info": {
   "codemirror_mode": {
    "name": "ipython",
    "version": 3
   },
   "file_extension": ".py",
   "mimetype": "text/x-python",
   "name": "python",
   "nbconvert_exporter": "python",
   "pygments_lexer": "ipython3",
   "version": "3.10.9"
  }
 },
 "nbformat": 4,
 "nbformat_minor": 5
}
