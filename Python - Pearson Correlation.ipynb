{
  "nbformat": 4,
  "nbformat_minor": 0,
  "metadata": {
    "colab": {
      "provenance": []
    },
    "kernelspec": {
      "name": "python3",
      "display_name": "Python 3"
    },
    "language_info": {
      "name": "python"
    }
  },
  "cells": [
    {
      "cell_type": "markdown",
      "source": [
        "# **Uji Korelasi  menggunakan Python**\n",
        "\n",
        "by: Shofi Shohwati\n",
        "\n",
        "Project from: DQLab academy\n",
        "\n"
      ],
      "metadata": {
        "id": "Vd3tZtd3dINk"
      }
    },
    {
      "cell_type": "markdown",
      "source": [
        "# **Korelasi Positif dan Negatif**\n",
        "Koefisien korelasi (*r*) dapat bernilai positif ( + ) atau negatif ( - ) dan berada pada rentang -1 s.d. 1 mendekati -1 atau 1 maka hubungan keeratan dua variabel semakin kuat. Jika nilainya mendekati 0, maka hubungan keeratan dua variabel semakin lemah. Berikut ini adalah interpretasi besarnya nilai koefisien korelasi.\n",
        "\n",
        "*   0 - 0.2 menyatakan hubungan keeratan sangat lemah\n",
        "*   0.2 - 0.4 menyatakan hubungan keeratan lemah\n",
        "*   0.4 - 0.7 menyatakan hubungan keeratan cukup kuat\n",
        "*   0.7 - 0.9 menyatakan hubungan keeratan kuat\n",
        "*   0,9 - 1 menyatakan hubungan keeratan sangat kuat.\n",
        "\n",
        "Tanda positif dan negatif pada koefisien korelasi menunjukkan arah hubungan. Koefisien korelasi bertanda positif artinya hubungannya berbanding lurus, dimana semakin tinggi nilai variabel *x* maka nilai variabel *y* juga semakin tinggi dan semakin rendah nilai variabel *x* maka nilai variabel *y* juga semakin rendah. Koefisien korelasi bertanda negatif artinya hubungannya berbanding terbalik, dimana semakin tinggi nilai variabel *x* maka nilai variabel *y* semakin rendah dan semakin rendah nilai variabel *x* maka nilai variabel *y* semakin tinggi."
      ],
      "metadata": {
        "id": "E5Qb_UDudMua"
      }
    },
    {
      "cell_type": "markdown",
      "source": [
        "# **Soal**\n",
        "\n",
        "Misalkan Anda sedang mempelajari hubungan antara berat dan panjang bayi yang baru lahir (<i>newborn</i>). Anda memiliki berat dan panjang 10 bayi yang lahir bulan lalu di rumah sakit setempat. Setelah Anda mengonversi pengukuran imperial ke metrik, Anda memasukkan data ke dalam tabel berikut :\n",
        "\n",
        "<table>\n",
        "  <tr>\n",
        "    <td align=\"center\">Berat (kg)</td>\n",
        "    <td align=\"center\">Panjang (cm)</td>\n",
        "  </tr>\n",
        "  <tr>\n",
        "    <td align=\"center\">3.63</td>\n",
        "    <td align=\"center\">53.1</td>\n",
        "  </tr>\n",
        "  <tr>\n",
        "    <td align=\"center\">3.02</td>\n",
        "    <td align=\"center\">49.7</td>\n",
        "  </tr>\n",
        "  <tr>\n",
        "    <td align=\"center\">3.82</td>\n",
        "    <td align=\"center\">48.4</td>\n",
        "  </tr>\n",
        "  <tr>\n",
        "    <td align=\"center\">3.42</td>\n",
        "    <td align=\"center\">54.2</td>\n",
        "  </tr>\n",
        "  <tr>\n",
        "    <td align=\"center\">3.59</td>\n",
        "    <td align=\"center\">54.9</td>\n",
        "  </tr>\n",
        "  <tr>\n",
        "    <td align=\"center\">2.87</td>\n",
        "    <td align=\"center\">43.7</td>\n",
        "  </tr>\n",
        "  <tr>\n",
        "    <td align=\"center\">3.03</td>\n",
        "    <td align=\"center\">47.2</td>\n",
        "  </tr>\n",
        "  <tr>\n",
        "    <td align=\"center\">3.46</td>\n",
        "    <td align=\"center\">45.2</td>\n",
        "  </tr>\n",
        "  <tr>\n",
        "    <td align=\"center\">3.36</td>\n",
        "    <td align=\"center\">54.4</td>\n",
        "  </tr>\n",
        "  <tr>\n",
        "    <td align=\"center\">3.3</td>\n",
        "    <td align=\"center\">50.4</td>\n",
        "  </tr>\n",
        "</table>\n",
        "\n",
        "Hitung berapa besar pengaruh berat badan bayi terhadap tinggi badannya lalu representasikan hasilnya!"
      ],
      "metadata": {
        "id": "azlfRWSTnxnQ"
      }
    },
    {
      "cell_type": "markdown",
      "source": [
        "# **Implementasi Program**\n",
        "\n",
        "Buatlah sebuah fungsi dengan dua parameter bernama `korelasi_pearson(var_X, var_Y)` dimana ketika fungsi tersebut dieksekusi akan me-<i>return</i> nilai koefisien korelasi dari dua variabel tersebut dan kategorinya."
      ],
      "metadata": {
        "id": "WzYQ4Wg5d776"
      }
    },
    {
      "cell_type": "markdown",
      "source": [
        "**Inisialisasi** **Variabel**"
      ],
      "metadata": {
        "id": "ni4cJ4V-eNKb"
      }
    },
    {
      "cell_type": "code",
      "source": [
        "berat_bayi = [3.63, 3.02, 3.82, 3.42, 3.59, 2.87, 3.03, 3.46, 3.36, 3.3]\n",
        "panjang_bayi = [53.1, 49.7, 48.4, 54.2, 54.9, 43.7, 47.2, 45.2, 54.4, 50.4]\n",
        "\n",
        "var_x = berat_bayi\n",
        "var_y = panjang_bayi"
      ],
      "metadata": {
        "id": "zbFAzttXeT1Z"
      },
      "execution_count": 4,
      "outputs": []
    },
    {
      "cell_type": "markdown",
      "source": [
        "**Membuat Fungsi**\n",
        "\n",
        "Buat sebuah fungsi untuk menghitung nilai dari  koefisien korelasi. Langkah yang dilakukan yaitu dengan menghitung rerata nilai X dan Y, menghitung pembilang, menghitung penyebut, menghitung koefisien korelasi (r) dan kemudian membuat kategori untuk nilai koefisien korelasi yang diperoleh."
      ],
      "metadata": {
        "id": "2_EsGbaieea3"
      }
    },
    {
      "cell_type": "code",
      "source": [
        "import math\n",
        "def korelasi_pearson(var_x, var_y):\n",
        "    #Menghitung rerata X dan Y#\n",
        "    rerata_x = sum(var_x)/len(var_x)\n",
        "    rerata_y = sum(var_y)/len(var_y)\n",
        "    print('Nilai rerata x =', round(rerata_x,2),'sedangkan rerata y =', round(rerata_y,2))\n",
        "    #Menghitung pembilang#\n",
        "    pembilang = 0\n",
        "    for a,b in zip(var_x,var_y):\n",
        "        pembilang = pembilang + (a-rerata_x) * (b-rerata_y)   \n",
        "    print('Nilai pembilang =', round(pembilang,3))\n",
        "    #Menghitung penyebut#\n",
        "    xi_x = 0\n",
        "    for a in var_x:\n",
        "        xi_x = xi_x + ((a-rerata_x)**2) \n",
        "    yi_y = 0\n",
        "    for b in var_y:\n",
        "        yi_y = yi_y + ((b-rerata_y)**2)\n",
        "        penyebut = math.sqrt(xi_x*yi_y)\n",
        "    print('Nilai penyebut =', round(penyebut,3))\n",
        "    #Menghitung koefisien korelasi dan membuat kategori#\n",
        "    r = pembilang/penyebut\n",
        "    if (0 < r < 0.2):\n",
        "      r_type = 'korelasi positif sangat lemah'\n",
        "    elif (0.2 < r < 0.4):\n",
        "      r_type = 'korelasi positif lemah'\n",
        "    elif (0.4 < r < 0.7):\n",
        "      r_type = 'korelasi positif cukup kuat'\n",
        "    elif (0.7 < r < 0.9):\n",
        "      r_type = 'korelasi positif kuat'\n",
        "    elif (0.7 < r < 0.9):\n",
        "      r_type = 'korelasi positif sangat kuat'\n",
        "    else:\n",
        "      r_type = 'korelasi negatif'\n",
        "    return(r, r_type)\n",
        "r, r_type = korelasi_pearson(var_x = berat_bayi, var_y = panjang_bayi)"
      ],
      "metadata": {
        "id": "wPI4nyLDXOWn",
        "colab": {
          "base_uri": "https://localhost:8080/"
        },
        "outputId": "d2fe0818-1a27-4ef1-f095-73d8023350a9"
      },
      "execution_count": 7,
      "outputs": [
        {
          "output_type": "stream",
          "name": "stdout",
          "text": [
            "Nilai rerata x = 3.35 sedangkan rerata y = 50.12\n",
            "Nilai pembilang = 5.101\n",
            "Nilai penyebut = 10.849\n"
          ]
        }
      ]
    },
    {
      "cell_type": "markdown",
      "source": [
        "**Nilai dan Kategori Koefisien Korelasi**\n",
        "\n",
        "Tampilkan nilai koefisien korelasi dari kedua variabel dan kategorinya"
      ],
      "metadata": {
        "id": "Huo3IwileyQ6"
      }
    },
    {
      "cell_type": "code",
      "source": [
        "print('Koefisien korelasi r = ', r, 'dengan kategori', r_type)"
      ],
      "metadata": {
        "colab": {
          "base_uri": "https://localhost:8080/"
        },
        "id": "W0D2vwsceuHe",
        "outputId": "fe37b0b5-4d0e-4f38-aa13-915f9c579609"
      },
      "execution_count": 8,
      "outputs": [
        {
          "output_type": "stream",
          "name": "stdout",
          "text": [
            "Koefisien korelasi r =  0.47017723296840297 dengan kategori korelasi positif cukup kuat\n"
          ]
        }
      ]
    }
  ]
}